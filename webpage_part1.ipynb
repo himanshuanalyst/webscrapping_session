{
 "cells": [
  {
   "cell_type": "code",
   "execution_count": null,
   "id": "93eb35cb",
   "metadata": {},
   "outputs": [],
   "source": [
    "!pip install selenium"
   ]
  },
  {
   "cell_type": "code",
   "execution_count": 32,
   "id": "da32b221",
   "metadata": {},
   "outputs": [],
   "source": [
    "from selenium import webdriver\n",
    "from bs4 import BeautifulSoup\n",
    "import time"
   ]
  },
  {
   "cell_type": "code",
   "execution_count": null,
   "id": "cfb7ebab",
   "metadata": {},
   "outputs": [],
   "source": [
    "url = \"https://www.youtube.com/channel/UCYOT-3YpIkNaf0X38E3axZw/videos\""
   ]
  },
  {
   "cell_type": "code",
   "execution_count": 34,
   "id": "0f5073f7",
   "metadata": {},
   "outputs": [],
   "source": [
    "wd = webdriver.Chrome()\n",
    "wd.get(url)\n",
    "wd.maximize_window()\n",
    "scroll_to_end(wd, 1)\n",
    "content1=wd.page_source\n",
    "content=wd.page_source.encode(\"utf-8\").strip()\n",
    "wd.close()"
   ]
  },
  {
   "cell_type": "code",
   "execution_count": 29,
   "id": "fc2e04e8",
   "metadata": {},
   "outputs": [],
   "source": [
    "content1\n",
    "soup1=BeautifulSoup(content1,'lxml')"
   ]
  },
  {
   "cell_type": "code",
   "execution_count": 33,
   "id": "d8c17bf3",
   "metadata": {},
   "outputs": [],
   "source": [
    "def scroll_to_end(wd, sleep_between_interactions):\n",
    "    \"\"\"\n",
    "    :param wd: give driver name {\"wd = webdriver.Chrome()\" and \"wd = webdriver.FirefoxOptions()\"}\n",
    "    :param sleep_between_interactions: fix the time sleep value according to your network connection\n",
    "    :return: scroll down to the end of your page\n",
    "    \"\"\"\n",
    "    prev_h = 0\n",
    "    while True:\n",
    "        height = wd.execute_script(\"\"\"\n",
    "                    function getActualHeight() {\n",
    "                        return Math.max(\n",
    "                            Math.max(document.body.scrollHeight, document.documentElement.scrollHeight),\n",
    "                            Math.max(document.body.offsetHeight, document.documentElement.offsetHeight),\n",
    "                            Math.max(document.body.clientHeight, document.documentElement.clientHeight)\n",
    "                        );\n",
    "                    }\n",
    "                    return getActualHeight();\n",
    "                \"\"\")\n",
    "        wd.execute_script(f\"window.scrollTo({prev_h},{prev_h + 200})\")\n",
    "        # fix the time sleep value according to your network connection\n",
    "        time.sleep(sleep_between_interactions)\n",
    "        prev_h += 200\n",
    "        if prev_h >= height:\n",
    "            break"
   ]
  },
  {
   "cell_type": "code",
   "execution_count": 30,
   "id": "6cb8429b",
   "metadata": {},
   "outputs": [
    {
     "data": {
      "text/plain": [
       "[<a aria-label=\"Sampling Methods in Hindi in Statistics Machine Learning Data Science by Data Industry 2 days ago 40 minutes 76 views\" class=\"yt-simple-endpoint style-scope ytd-grid-video-renderer\" href=\"/watch?v=bM9KL9L6bjA\" id=\"video-title\" title=\"Sampling Methods in Hindi in Statistics Machine Learning Data Science\">Sampling Methods in Hindi in Statistics Machine Learning Data Science</a>,\n",
       " <a aria-label=\"YouTube web scraping and Video Downloader Project in Python .....Machine Learning....In a Mute way by Data Industry 4 days ago 6 minutes, 30 seconds 239 views\" class=\"yt-simple-endpoint style-scope ytd-grid-video-renderer\" href=\"/watch?v=LXnxjEpwUvI\" id=\"video-title\" title=\"YouTube web scraping and Video Downloader Project in Python .....Machine Learning....In a Mute way\">YouTube web scraping and Video Downloader Project in Python .....Machine Learning....In a Mute way</a>,\n",
       " <a aria-label=\"List Comprehension by Data Industry 5 days ago 25 minutes 217 views\" class=\"yt-simple-endpoint style-scope ytd-grid-video-renderer\" href=\"/watch?v=VIiz5n4TKoM\" id=\"video-title\" title=\"List Comprehension\">List Comprehension</a>]"
      ]
     },
     "execution_count": 30,
     "metadata": {},
     "output_type": "execute_result"
    }
   ],
   "source": [
    "soup1.find_all('a',id='video-title')"
   ]
  },
  {
   "cell_type": "code",
   "execution_count": 13,
   "id": "063553f1",
   "metadata": {},
   "outputs": [],
   "source": [
    "soup = BeautifulSoup(content,'lxml')"
   ]
  },
  {
   "cell_type": "code",
   "execution_count": 18,
   "id": "5ae4b201",
   "metadata": {
    "collapsed": true
   },
   "outputs": [
    {
     "data": {
      "text/plain": [
       "[<a aria-label=\"Sampling Methods in Hindi in Statistics Machine Learning Data Science by Data Industry 1 day ago 40 minutes 76 views\" class=\"yt-simple-endpoint style-scope ytd-grid-video-renderer\" href=\"/watch?v=bM9KL9L6bjA\" id=\"video-title\" title=\"Sampling Methods in Hindi in Statistics Machine Learning Data Science\">Sampling Methods in Hindi in Statistics Machine Learning Data Science</a>,\n",
       " <a aria-label=\"YouTube web scraping and Video Downloader Project in Python .....Machine Learning....In a Mute way by Data Industry 3 days ago 6 minutes, 30 seconds 239 views\" class=\"yt-simple-endpoint style-scope ytd-grid-video-renderer\" href=\"/watch?v=LXnxjEpwUvI\" id=\"video-title\" title=\"YouTube web scraping and Video Downloader Project in Python .....Machine Learning....In a Mute way\">YouTube web scraping and Video Downloader Project in Python .....Machine Learning....In a Mute way</a>,\n",
       " <a aria-label=\"List Comprehension by Data Industry 5 days ago 25 minutes 217 views\" class=\"yt-simple-endpoint style-scope ytd-grid-video-renderer\" href=\"/watch?v=VIiz5n4TKoM\" id=\"video-title\" title=\"List Comprehension\">List Comprehension</a>]"
      ]
     },
     "execution_count": 18,
     "metadata": {},
     "output_type": "execute_result"
    }
   ],
   "source": [
    "all_titles=soup.find_all('a',id='video-title')\n",
    "all_titles"
   ]
  },
  {
   "cell_type": "code",
   "execution_count": 23,
   "id": "966d42d7",
   "metadata": {},
   "outputs": [
    {
     "data": {
      "text/plain": [
       "'List Comprehension'"
      ]
     },
     "execution_count": 23,
     "metadata": {},
     "output_type": "execute_result"
    }
   ],
   "source": [
    "all_titles[0].text"
   ]
  },
  {
   "cell_type": "code",
   "execution_count": 24,
   "id": "3b51fbd6",
   "metadata": {},
   "outputs": [],
   "source": [
    "titles =[]\n",
    "for i in all_titles:\n",
    "    titles.append(i.text)"
   ]
  },
  {
   "cell_type": "code",
   "execution_count": 25,
   "id": "f0780e2d",
   "metadata": {},
   "outputs": [
    {
     "data": {
      "text/plain": [
       "['Sampling Methods in Hindi in Statistics Machine Learning Data Science',\n",
       " 'YouTube web scraping and Video Downloader Project in Python .....Machine Learning....In a Mute way',\n",
       " 'List Comprehension']"
      ]
     },
     "execution_count": 25,
     "metadata": {},
     "output_type": "execute_result"
    }
   ],
   "source": [
    "titles"
   ]
  },
  {
   "cell_type": "code",
   "execution_count": 26,
   "id": "7f8cfbd8",
   "metadata": {},
   "outputs": [
    {
     "data": {
      "text/plain": [
       "['Sampling Methods in Hindi in Statistics Machine Learning Data Science',\n",
       " 'YouTube web scraping and Video Downloader Project in Python .....Machine Learning....In a Mute way']"
      ]
     },
     "execution_count": 26,
     "metadata": {},
     "output_type": "execute_result"
    }
   ],
   "source": [
    "titles[:2]"
   ]
  },
  {
   "cell_type": "code",
   "execution_count": 36,
   "id": "8e976f4f",
   "metadata": {},
   "outputs": [],
   "source": [
    "video_id=\"/watch?v=bM9KL9L6bjA\""
   ]
  },
  {
   "cell_type": "code",
   "execution_count": 39,
   "id": "f48c3627",
   "metadata": {},
   "outputs": [],
   "source": [
    "video_url=\"https://www.youtube.com\"+video_id"
   ]
  },
  {
   "cell_type": "code",
   "execution_count": 40,
   "id": "21cad730",
   "metadata": {},
   "outputs": [
    {
     "data": {
      "text/plain": [
       "'https://www.youtube.com/watch?v=bM9KL9L6bjA'"
      ]
     },
     "execution_count": 40,
     "metadata": {},
     "output_type": "execute_result"
    }
   ],
   "source": [
    "video_url"
   ]
  },
  {
   "cell_type": "code",
   "execution_count": 43,
   "id": "fdec61c3",
   "metadata": {},
   "outputs": [
    {
     "data": {
      "text/plain": [
       "'/watch?v=bM9KL9L6bjA'"
      ]
     },
     "execution_count": 43,
     "metadata": {},
     "output_type": "execute_result"
    }
   ],
   "source": [
    "all_titles[0][\"href\"]"
   ]
  },
  {
   "cell_type": "code",
   "execution_count": 44,
   "id": "6e971632",
   "metadata": {},
   "outputs": [],
   "source": [
    "video_id=[]\n",
    "for i in all_titles:\n",
    "    video_id.append(i['href'])"
   ]
  },
  {
   "cell_type": "code",
   "execution_count": 45,
   "id": "8057c5d0",
   "metadata": {},
   "outputs": [
    {
     "data": {
      "text/plain": [
       "['/watch?v=bM9KL9L6bjA', '/watch?v=LXnxjEpwUvI', '/watch?v=VIiz5n4TKoM']"
      ]
     },
     "execution_count": 45,
     "metadata": {},
     "output_type": "execute_result"
    }
   ],
   "source": [
    "video_id"
   ]
  },
  {
   "cell_type": "code",
   "execution_count": 50,
   "id": "d34a709f",
   "metadata": {},
   "outputs": [],
   "source": [
    "video_url = []\n",
    "for i in video_id:\n",
    "    video_url.append(\"https://www.youtube.com\"+str(i))\n",
    "    "
   ]
  },
  {
   "cell_type": "code",
   "execution_count": 51,
   "id": "72d49419",
   "metadata": {},
   "outputs": [
    {
     "data": {
      "text/plain": [
       "['https://www.youtube.com/watch?v=bM9KL9L6bjA',\n",
       " 'https://www.youtube.com/watch?v=LXnxjEpwUvI',\n",
       " 'https://www.youtube.com/watch?v=VIiz5n4TKoM']"
      ]
     },
     "execution_count": 51,
     "metadata": {},
     "output_type": "execute_result"
    }
   ],
   "source": [
    "video_url"
   ]
  },
  {
   "cell_type": "code",
   "execution_count": null,
   "id": "8fb90862",
   "metadata": {},
   "outputs": [],
   "source": [
    "https://i.ytimg.com/vi/      LXnxjEpwUvI          /hqdefault.jpg"
   ]
  },
  {
   "cell_type": "code",
   "execution_count": 54,
   "id": "956aa2b0",
   "metadata": {},
   "outputs": [
    {
     "data": {
      "text/plain": [
       "'bM9KL9L6bjA'"
      ]
     },
     "execution_count": 54,
     "metadata": {},
     "output_type": "execute_result"
    }
   ],
   "source": [
    "video_id[0].split(\"=\")[1]"
   ]
  },
  {
   "cell_type": "code",
   "execution_count": 55,
   "id": "32a56173",
   "metadata": {},
   "outputs": [
    {
     "data": {
      "text/plain": [
       "'https://i.ytimg.com/vi/bM9KL9L6bjA/hqdefault.jpg'"
      ]
     },
     "execution_count": 55,
     "metadata": {},
     "output_type": "execute_result"
    }
   ],
   "source": [
    "\"https://i.ytimg.com/vi/{}/hqdefault.jpg\".format(video_id[0].split(\"=\")[1])"
   ]
  },
  {
   "cell_type": "code",
   "execution_count": 57,
   "id": "931e4229",
   "metadata": {},
   "outputs": [],
   "source": [
    "thumbnail = []\n",
    "for i in video_id:\n",
    "    thumbnail.append(\"https://i.ytimg.com/vi/{}/hqdefault.jpg\".format(i.split(\"=\")[1]))\n",
    "    "
   ]
  },
  {
   "cell_type": "code",
   "execution_count": 58,
   "id": "e64c0049",
   "metadata": {},
   "outputs": [
    {
     "data": {
      "text/plain": [
       "['https://i.ytimg.com/vi/bM9KL9L6bjA/hqdefault.jpg',\n",
       " 'https://i.ytimg.com/vi/LXnxjEpwUvI/hqdefault.jpg',\n",
       " 'https://i.ytimg.com/vi/VIiz5n4TKoM/hqdefault.jpg']"
      ]
     },
     "execution_count": 58,
     "metadata": {},
     "output_type": "execute_result"
    }
   ],
   "source": [
    "thumbnail"
   ]
  },
  {
   "cell_type": "code",
   "execution_count": 74,
   "id": "4c81fc3d",
   "metadata": {
    "scrolled": true
   },
   "outputs": [
    {
     "data": {
      "text/plain": [
       "[<div class=\"style-scope ytd-grid-video-renderer\" id=\"metadata-line\"><span class=\"style-scope ytd-grid-video-renderer\">76 views</span><span class=\"style-scope ytd-grid-video-renderer\">1 day ago</span><dom-repeat class=\"style-scope ytd-grid-video-renderer\" strip-whitespace=\"\"><template is=\"dom-repeat\"></template></dom-repeat></div>,\n",
       " <div class=\"style-scope ytd-grid-video-renderer\" id=\"metadata-line\"><span class=\"style-scope ytd-grid-video-renderer\">239 views</span><span class=\"style-scope ytd-grid-video-renderer\">3 days ago</span><dom-repeat class=\"style-scope ytd-grid-video-renderer\" strip-whitespace=\"\"><template is=\"dom-repeat\"></template></dom-repeat></div>,\n",
       " <div class=\"style-scope ytd-grid-video-renderer\" id=\"metadata-line\"><span class=\"style-scope ytd-grid-video-renderer\">217 views</span><span class=\"style-scope ytd-grid-video-renderer\">5 days ago</span><dom-repeat class=\"style-scope ytd-grid-video-renderer\" strip-whitespace=\"\"><template is=\"dom-repeat\"></template></dom-repeat></div>,\n",
       " <div class=\"style-scope ytd-video-meta-block\" id=\"metadata-line\">\n",
       " <dom-repeat class=\"style-scope ytd-video-meta-block\" strip-whitespace=\"\"><template is=\"dom-repeat\"></template></dom-repeat>\n",
       " </div>]"
      ]
     },
     "execution_count": 74,
     "metadata": {},
     "output_type": "execute_result"
    }
   ],
   "source": [
    "total_views=soup.find_all(\"div\",id=\"metadata-line\")\n",
    "total_views"
   ]
  },
  {
   "cell_type": "code",
   "execution_count": 78,
   "id": "eec9031d",
   "metadata": {},
   "outputs": [
    {
     "data": {
      "text/plain": [
       "<div class=\"style-scope ytd-video-meta-block\" id=\"metadata-line\">\n",
       "<dom-repeat class=\"style-scope ytd-video-meta-block\" strip-whitespace=\"\"><template is=\"dom-repeat\"></template></dom-repeat>\n",
       "</div>"
      ]
     },
     "execution_count": 78,
     "metadata": {},
     "output_type": "execute_result"
    }
   ],
   "source": []
  },
  {
   "cell_type": "code",
   "execution_count": 75,
   "id": "32de245e",
   "metadata": {},
   "outputs": [
    {
     "data": {
      "text/plain": [
       "'76'"
      ]
     },
     "execution_count": 75,
     "metadata": {},
     "output_type": "execute_result"
    }
   ],
   "source": [
    "total_views[0].text.split()[0]"
   ]
  },
  {
   "cell_type": "code",
   "execution_count": 81,
   "id": "ec736e0f",
   "metadata": {},
   "outputs": [],
   "source": [
    "views= []\n",
    "for i in range(len(total_views)-1):\n",
    "    views.append(total_views[i].text.split()[0])\n",
    "    "
   ]
  },
  {
   "cell_type": "code",
   "execution_count": 82,
   "id": "3f7078ce",
   "metadata": {},
   "outputs": [
    {
     "data": {
      "text/plain": [
       "['76', '239', '217']"
      ]
     },
     "execution_count": 82,
     "metadata": {},
     "output_type": "execute_result"
    }
   ],
   "source": [
    "views"
   ]
  },
  {
   "cell_type": "code",
   "execution_count": 84,
   "id": "5b6b792f",
   "metadata": {},
   "outputs": [
    {
     "data": {
      "text/plain": [
       "'https://www.youtube.com/watch?v=bM9KL9L6bjA'"
      ]
     },
     "execution_count": 84,
     "metadata": {},
     "output_type": "execute_result"
    }
   ],
   "source": [
    "video_url[0]"
   ]
  },
  {
   "cell_type": "code",
   "execution_count": 107,
   "id": "d088afe4",
   "metadata": {},
   "outputs": [],
   "source": [
    "wd = webdriver.Chrome()\n",
    "wd.get('https://www.youtube.com/watch?v=bM9KL9L6bjA')\n",
    "wd.maximize_window()\n",
    "content2=wd.page_source.encode(\"utf-8\").strip()\n",
    "soup1=BeautifulSoup(content2,'lxml')\n",
    "wd.close()"
   ]
  },
  {
   "cell_type": "code",
   "execution_count": 112,
   "id": "e648396b",
   "metadata": {},
   "outputs": [],
   "source": [
    "likes=soup1.find_all('div',id='top-level-buttons-computed')[0]"
   ]
  },
  {
   "cell_type": "code",
   "execution_count": 118,
   "id": "08aaf87a",
   "metadata": {},
   "outputs": [
    {
     "data": {
      "text/plain": [
       "'20'"
      ]
     },
     "execution_count": 118,
     "metadata": {},
     "output_type": "execute_result"
    }
   ],
   "source": [
    "likes.find_all('yt-formatted-string')[0].text"
   ]
  },
  {
   "cell_type": "code",
   "execution_count": null,
   "id": "92ce2d83",
   "metadata": {},
   "outputs": [],
   "source": []
  }
 ],
 "metadata": {
  "kernelspec": {
   "display_name": "Python 3 (ipykernel)",
   "language": "python",
   "name": "python3"
  },
  "language_info": {
   "codemirror_mode": {
    "name": "ipython",
    "version": 3
   },
   "file_extension": ".py",
   "mimetype": "text/x-python",
   "name": "python",
   "nbconvert_exporter": "python",
   "pygments_lexer": "ipython3",
   "version": "3.9.12"
  }
 },
 "nbformat": 4,
 "nbformat_minor": 5
}
